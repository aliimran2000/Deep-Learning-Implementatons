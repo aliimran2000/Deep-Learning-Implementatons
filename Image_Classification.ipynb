{
  "nbformat": 4,
  "nbformat_minor": 0,
  "metadata": {
    "colab": {
      "name": "Image Classification.ipynb",
      "provenance": [],
      "collapsed_sections": [],
      "authorship_tag": "ABX9TyM2famYBWEBGYFpNUCxTTtf",
      "include_colab_link": true
    },
    "kernelspec": {
      "name": "python3",
      "display_name": "Python 3"
    }
  },
  "cells": [
    {
      "cell_type": "markdown",
      "metadata": {
        "id": "view-in-github",
        "colab_type": "text"
      },
      "source": [
        "<a href=\"https://colab.research.google.com/github/aliimran2000/MNIST-Deep-Learning-Implementatons/blob/main/Image_Classification.ipynb\" target=\"_parent\"><img src=\"https://colab.research.google.com/assets/colab-badge.svg\" alt=\"Open In Colab\"/></a>"
      ]
    },
    {
      "cell_type": "code",
      "metadata": {
        "colab": {
          "base_uri": "https://localhost:8080/"
        },
        "id": "vN0ibxkLxSfv",
        "outputId": "3c3edc00-1532-4bbf-c375-d0cfd1c5e8a6"
      },
      "source": [
        "import tensorflow as tf\n",
        "print(tf.__version__)"
      ],
      "execution_count": null,
      "outputs": [
        {
          "output_type": "stream",
          "text": [
            "2.4.1\n"
          ],
          "name": "stdout"
        }
      ]
    },
    {
      "cell_type": "code",
      "metadata": {
        "id": "FVTcxpVXyeAh"
      },
      "source": [
        "from tensorflow.keras.datasets import mnist\n",
        "\n",
        "(train_images2,train_labels2),(test_images2,test_labels2)= mnist.load_data()"
      ],
      "execution_count": null,
      "outputs": []
    },
    {
      "cell_type": "code",
      "metadata": {
        "colab": {
          "base_uri": "https://localhost:8080/"
        },
        "id": "_wScQ1FQ26V8",
        "outputId": "1848230f-4a15-4a11-9d24-2dfb9138cf75"
      },
      "source": [
        "train_images[0].shape"
      ],
      "execution_count": null,
      "outputs": [
        {
          "output_type": "execute_result",
          "data": {
            "text/plain": [
              "(28, 28)"
            ]
          },
          "metadata": {
            "tags": []
          },
          "execution_count": 10
        }
      ]
    },
    {
      "cell_type": "code",
      "metadata": {
        "colab": {
          "base_uri": "https://localhost:8080/"
        },
        "id": "G1VNZA8U3XGo",
        "outputId": "641cafd8-5b85-4c56-c1a6-3e3673a23594"
      },
      "source": [
        "train_images.shape"
      ],
      "execution_count": null,
      "outputs": [
        {
          "output_type": "execute_result",
          "data": {
            "text/plain": [
              "(60000, 28, 28)"
            ]
          },
          "metadata": {
            "tags": []
          },
          "execution_count": 11
        }
      ]
    },
    {
      "cell_type": "code",
      "metadata": {
        "colab": {
          "base_uri": "https://localhost:8080/"
        },
        "id": "Cw0BgzcD3Yp_",
        "outputId": "1b3e639a-68af-48d5-828a-e142044db63b"
      },
      "source": [
        "train_images.ndim # prints dimensions"
      ],
      "execution_count": null,
      "outputs": [
        {
          "output_type": "execute_result",
          "data": {
            "text/plain": [
              "3"
            ]
          },
          "metadata": {
            "tags": []
          },
          "execution_count": 13
        }
      ]
    },
    {
      "cell_type": "code",
      "metadata": {
        "id": "QJLVTKrj3eOV"
      },
      "source": [
        "from tensorflow.keras import models\n",
        "from tensorflow.keras import layers\n",
        "\n",
        "network = models.Sequential()\n",
        "\n",
        "network.add(layers.Dense(512,input_shape=(28*28,),activation='relu'))# adds a layers to our network that is densely connected to layers before and after it \n",
        "# inputshape = (28*28,) means 784 by 1 thus bringing two dim struc to one \n",
        "# activation function is the function is the function that filters usefull data and convert linear to non linear\n",
        "# num of ouput from this layer is 512\n",
        "network.add(layers.Dense(10,activation='softmax')) # already knows previous shape ... last act func depends on type of problem\n",
        "\n",
        "\n"
      ],
      "execution_count": null,
      "outputs": []
    },
    {
      "cell_type": "code",
      "metadata": {
        "id": "10lU5lyaSzSH"
      },
      "source": [
        "network.compile(optimizer='rmsprop',loss='categorical_crossentropy',metrics=['accuracy'])"
      ],
      "execution_count": null,
      "outputs": []
    },
    {
      "cell_type": "code",
      "metadata": {
        "colab": {
          "base_uri": "https://localhost:8080/"
        },
        "id": "Thm1n58HTDLD",
        "outputId": "9b96e8b7-f85b-4831-9db6-a0fdf74e76d9"
      },
      "source": [
        "# Normalizing the Data\n",
        "print(train_images.shape)\n",
        "print(test_images.shape)"
      ],
      "execution_count": null,
      "outputs": [
        {
          "output_type": "stream",
          "text": [
            "(60000, 28, 28)\n",
            "(10000, 28, 28)\n"
          ],
          "name": "stdout"
        }
      ]
    },
    {
      "cell_type": "code",
      "metadata": {
        "id": "-NEz17AXUWBp"
      },
      "source": [
        "# turn data into 2dimensional\n",
        "# since data for pizel is between 0-255 we convert data to lie between 0 and 1 \n",
        "train_images = train_images.reshape(60000,28*28)\n",
        "train_images = train_images.astype('float32')/255\n",
        "# same for \n",
        "test_images = test_images.reshape(10000,28*28)\n",
        "test_images = test_images.astype('float32')/255"
      ],
      "execution_count": null,
      "outputs": []
    },
    {
      "cell_type": "code",
      "metadata": {
        "id": "DbBwKxOiU_S4"
      },
      "source": [
        "from tensorflow.keras.utils import to_categorical\n",
        "# one hot encoding\n",
        "\n",
        "train_labels = to_categorical(train_labels) #convert numeric labeling to one hot encoding\n",
        "test_labels = to_categorical(test_labels) #convert numeric labeling to one hot encoding\n"
      ],
      "execution_count": null,
      "outputs": []
    },
    {
      "cell_type": "code",
      "metadata": {
        "colab": {
          "base_uri": "https://localhost:8080/"
        },
        "id": "wEgfzzuZWwIj",
        "outputId": "7ad2cd4c-e603-480f-a56f-aa9646f9ff6a"
      },
      "source": [
        "network.fit(train_images,train_labels,epochs=5,batch_size = 128)"
      ],
      "execution_count": null,
      "outputs": [
        {
          "output_type": "stream",
          "text": [
            "Epoch 1/5\n",
            "469/469 [==============================] - 5s 10ms/step - loss: 0.4187 - accuracy: 0.8790\n",
            "Epoch 2/5\n",
            "469/469 [==============================] - 5s 10ms/step - loss: 0.1117 - accuracy: 0.9674\n",
            "Epoch 3/5\n",
            "469/469 [==============================] - 4s 10ms/step - loss: 0.0700 - accuracy: 0.9792\n",
            "Epoch 4/5\n",
            "469/469 [==============================] - 5s 10ms/step - loss: 0.0481 - accuracy: 0.9854\n",
            "Epoch 5/5\n",
            "469/469 [==============================] - 6s 12ms/step - loss: 0.0359 - accuracy: 0.9892\n"
          ],
          "name": "stdout"
        },
        {
          "output_type": "execute_result",
          "data": {
            "text/plain": [
              "<tensorflow.python.keras.callbacks.History at 0x7f3c51d7a950>"
            ]
          },
          "metadata": {
            "tags": []
          },
          "execution_count": 25
        }
      ]
    },
    {
      "cell_type": "code",
      "metadata": {
        "colab": {
          "base_uri": "https://localhost:8080/"
        },
        "id": "LAul8EioXQn7",
        "outputId": "39fb6bf1-4fcf-4b09-93bb-e418e82e2b2d"
      },
      "source": [
        "test_loss,test_Accuracy = network.evaluate(test_images,test_labels)\n",
        "print(\"Loss: \",test_loss)\n",
        "print(\"Accuracy: \",test_Accuracy*100 ,\" %\")"
      ],
      "execution_count": null,
      "outputs": [
        {
          "output_type": "stream",
          "text": [
            "313/313 [==============================] - 1s 3ms/step - loss: 0.0683 - accuracy: 0.9791\n",
            "Loss:  0.06826695799827576\n",
            "Accuracy:  97.9099988937378  %\n"
          ],
          "name": "stdout"
        }
      ]
    },
    {
      "cell_type": "code",
      "metadata": {
        "colab": {
          "base_uri": "https://localhost:8080/"
        },
        "id": "EFwnwUe_XyTp",
        "outputId": "5d44be99-f470-48da-ccff-5d0a4186927a"
      },
      "source": [
        "network.predict(test_images)[0]"
      ],
      "execution_count": null,
      "outputs": [
        {
          "output_type": "execute_result",
          "data": {
            "text/plain": [
              "array([1.4889722e-08, 2.7641198e-10, 1.0590978e-06, 7.3538438e-05,\n",
              "       1.1412998e-11, 1.2912375e-07, 2.2648135e-13, 9.9992347e-01,\n",
              "       2.1060717e-07, 1.5437878e-06], dtype=float32)"
            ]
          },
          "metadata": {
            "tags": []
          },
          "execution_count": 28
        }
      ]
    },
    {
      "cell_type": "code",
      "metadata": {
        "colab": {
          "base_uri": "https://localhost:8080/",
          "height": 265
        },
        "id": "-cyrzts0YJ41",
        "outputId": "722af221-b981-43e8-fbae-5ddf7a698dee"
      },
      "source": [
        "digit = train_images2[0]\n",
        "import matplotlib.pyplot as plt\n",
        "plt.imshow(digit,cmap=plt.cm.binary)\n",
        "plt.show()"
      ],
      "execution_count": null,
      "outputs": [
        {
          "output_type": "display_data",
          "data": {
            "image/png": "[encoded data removed]",
            "text/plain": [
              "<Figure size 432x288 with 1 Axes>"
            ]
          },
          "metadata": {
            "tags": [],
            "needs_background": "light"
          }
        }
      ]
    },
    {
      "cell_type": "code",
      "metadata": {
        "colab": {
          "base_uri": "https://localhost:8080/"
        },
        "id": "A8HNNRB4Yr7Q",
        "outputId": "8846a3e6-33ca-4b4c-af1d-0886159c89f1"
      },
      "source": [
        "network.predict(test_images)[0]"
      ],
      "execution_count": null,
      "outputs": [
        {
          "output_type": "execute_result",
          "data": {
            "text/plain": [
              "array([1.4889722e-08, 2.7641198e-10, 1.0590978e-06, 7.3538438e-05,\n",
              "       1.1412998e-11, 1.2912375e-07, 2.2648135e-13, 9.9992347e-01,\n",
              "       2.1060717e-07, 1.5437878e-06], dtype=float32)"
            ]
          },
          "metadata": {
            "tags": []
          },
          "execution_count": 39
        }
      ]
    },
    {
      "cell_type": "code",
      "metadata": {
        "colab": {
          "base_uri": "https://localhost:8080/"
        },
        "id": "wNYzbCK8ZAOB",
        "outputId": "7c0f0eee-e6af-4c57-eb60-ae21a53af8f4"
      },
      "source": [
        "test_labels[0]"
      ],
      "execution_count": null,
      "outputs": [
        {
          "output_type": "execute_result",
          "data": {
            "text/plain": [
              "array([0., 0., 0., 0., 0., 0., 0., 1., 0., 0.], dtype=float32)"
            ]
          },
          "metadata": {
            "tags": []
          },
          "execution_count": 37
        }
      ]
    },
    {
      "cell_type": "code",
      "metadata": {
        "colab": {
          "base_uri": "https://localhost:8080/"
        },
        "id": "7jV_d8MjZUpf",
        "outputId": "bb6f413f-b89e-4614-c8d2-4cd62ece0e27"
      },
      "source": [
        "test_images[0].shape"
      ],
      "execution_count": null,
      "outputs": [
        {
          "output_type": "execute_result",
          "data": {
            "text/plain": [
              "(784,)"
            ]
          },
          "metadata": {
            "tags": []
          },
          "execution_count": 44
        }
      ]
    },
    {
      "cell_type": "code",
      "metadata": {
        "colab": {
          "base_uri": "https://localhost:8080/"
        },
        "id": "h00Tbo_AaFNC",
        "outputId": "6a0b4ec0-69b8-492f-b91c-9183175b61af"
      },
      "source": [
        "test_images2[0].reshape(28*28,).shape"
      ],
      "execution_count": null,
      "outputs": [
        {
          "output_type": "execute_result",
          "data": {
            "text/plain": [
              "(784,)"
            ]
          },
          "metadata": {
            "tags": []
          },
          "execution_count": 46
        }
      ]
    },
    {
      "cell_type": "code",
      "metadata": {
        "colab": {
          "base_uri": "https://localhost:8080/",
          "height": 282
        },
        "id": "jQTsjyoUahUw",
        "outputId": "2feaea9a-a9bf-43e9-ec9e-c4cc1979d99f"
      },
      "source": [
        "image_index = 98\n",
        "plt.imshow(test_images2[image_index].reshape(28, 28),cmap='Greys')\n",
        "pred = network.predict(test_images2[image_index].reshape(1,784))\n",
        "print(pred.argmax())"
      ],
      "execution_count": null,
      "outputs": [
        {
          "output_type": "stream",
          "text": [
            "6\n"
          ],
          "name": "stdout"
        },
        {
          "output_type": "display_data",
          "data": {
            "image/png": "[encoded data removed]",
            "text/plain": [
              "<Figure size 432x288 with 1 Axes>"
            ]
          },
          "metadata": {
            "tags": [],
            "needs_background": "light"
          }
        }
      ]
    },
    {
      "cell_type": "code",
      "metadata": {
        "colab": {
          "base_uri": "https://localhost:8080/",
          "height": 282
        },
        "id": "HRYDuJdkavnv",
        "outputId": "c1b3ad71-ef56-46c8-b8ca-e6d00da82f37"
      },
      "source": [
        "image_index = 10\n",
        "plt.imshow(test_images2[image_index].reshape(28, 28),cmap='Greys')\n",
        "pred = network.predict(test_images2[image_index].reshape(1,784))\n",
        "print(pred.argmax())"
      ],
      "execution_count": null,
      "outputs": [
        {
          "output_type": "stream",
          "text": [
            "0\n"
          ],
          "name": "stdout"
        },
        {
          "output_type": "display_data",
          "data": {
            "image/png": "[encoded data removed]",
            "text/plain": [
              "<Figure size 432x288 with 1 Axes>"
            ]
          },
          "metadata": {
            "tags": [],
            "needs_background": "light"
          }
        }
      ]
    },
    {
      "cell_type": "code",
      "metadata": {
        "id": "zbDyGVTPbToc",
        "colab": {
          "base_uri": "https://localhost:8080/",
          "height": 282
        },
        "outputId": "143e24b2-77d8-4e35-f3e3-3bfce8f942ab"
      },
      "source": [
        "image_index = 11\n",
        "plt.imshow(test_images2[image_index].reshape(28, 28),cmap='Greys')\n",
        "pred = network.predict(test_images2[image_index].reshape(1,784))\n",
        "print(pred.argmax())"
      ],
      "execution_count": null,
      "outputs": [
        {
          "output_type": "stream",
          "text": [
            "6\n"
          ],
          "name": "stdout"
        },
        {
          "output_type": "display_data",
          "data": {
            "image/png": "[encoded data removed]",
            "text/plain": [
              "<Figure size 432x288 with 1 Axes>"
            ]
          },
          "metadata": {
            "tags": [],
            "needs_background": "light"
          }
        }
      ]
    },
    {
      "cell_type": "code",
      "metadata": {
        "id": "Nb04FSUMbUey",
        "colab": {
          "base_uri": "https://localhost:8080/",
          "height": 282
        },
        "outputId": "c0fd4aa3-69db-48c0-b97f-c681371956ee"
      },
      "source": [
        "image_index = 12\n",
        "plt.imshow(test_images2[image_index].reshape(28, 28),cmap='Greys')\n",
        "pred = network.predict(test_images2[image_index].reshape(1,784))\n",
        "print(pred.argmax())"
      ],
      "execution_count": null,
      "outputs": [
        {
          "output_type": "stream",
          "text": [
            "9\n"
          ],
          "name": "stdout"
        },
        {
          "output_type": "display_data",
          "data": {
            "image/png": "[encoded data removed]",
            "text/plain": [
              "<Figure size 432x288 with 1 Axes>"
            ]
          },
          "metadata": {
            "tags": [],
            "needs_background": "light"
          }
        }
      ]
    },
    {
      "cell_type": "code",
      "metadata": {
        "id": "WtUtUDJbbV2A",
        "colab": {
          "base_uri": "https://localhost:8080/",
          "height": 282
        },
        "outputId": "04946eb9-26e9-42d4-8a63-a61de6b25f7f"
      },
      "source": [
        "image_index = 81\n",
        "\n",
        "plt.imshow(test_images2[image_index].reshape(28, 28),cmap='Greys')\n",
        "pred = network.predict(test_images2[image_index].reshape(1,784))\n",
        "print(pred.argmax())"
      ],
      "execution_count": null,
      "outputs": [
        {
          "output_type": "stream",
          "text": [
            "6\n"
          ],
          "name": "stdout"
        },
        {
          "output_type": "display_data",
          "data": {
            "image/png": "[encoded data removed]",
            "text/plain": [
              "<Figure size 432x288 with 1 Axes>"
            ]
          },
          "metadata": {
            "tags": [],
            "needs_background": "light"
          }
        }
      ]
    },
    {
      "cell_type": "code",
      "metadata": {
        "id": "NyN1u8itbYJO"
      },
      "source": [
        ""
      ],
      "execution_count": null,
      "outputs": []
    }
  ]
}